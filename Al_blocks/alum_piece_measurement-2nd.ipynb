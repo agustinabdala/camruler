{
 "cells": [
  {
   "cell_type": "code",
   "execution_count": 1,
   "id": "liquid-harrison",
   "metadata": {},
   "outputs": [],
   "source": [
    "import cv2\n",
    "import os\n",
    "import numpy as np\n",
    "from matplotlib import pyplot as plt"
   ]
  },
  {
   "cell_type": "code",
   "execution_count": 3,
   "id": "impaired-earth",
   "metadata": {},
   "outputs": [],
   "source": [
    "file_name =  \"./IMG_4771.png\"\n",
    "image = cv2.imread(file_name)\n",
    "#gray_image = cv2.cvtColor(image, cv2.COLOR_BGR2GRAY)\n",
    "#twoims = np.concatenate((image, gray_image), axis=1)\n",
    "cv2.imshow(\"col\", image)\n",
    "#cv2.imshow(\"bw\", gray_image)\n",
    "cv2.waitKey(0)\n",
    "cv2.destroyAllWindows()"
   ]
  },
  {
   "cell_type": "code",
   "execution_count": 4,
   "id": "interpreted-bankruptcy",
   "metadata": {},
   "outputs": [
    {
     "data": {
      "text/plain": [
       "(4032, 3024, 3)"
      ]
     },
     "execution_count": 4,
     "metadata": {},
     "output_type": "execute_result"
    }
   ],
   "source": [
    "image.shape"
   ]
  },
  {
   "cell_type": "code",
   "execution_count": 10,
   "id": "swedish-particular",
   "metadata": {},
   "outputs": [
    {
     "name": "stdout",
     "output_type": "stream",
     "text": [
      "(100, 3024, 3)\n"
     ]
    }
   ],
   "source": [
    "im2 =  image[2000:2100,:,:]\n",
    "print(im2.shape)\n",
    "cv2.imshow(\"col\", im2)\n",
    "cv2.waitKey(0)\n",
    "cv2.destroyAllWindows()\n"
   ]
  },
  {
   "cell_type": "code",
   "execution_count": 11,
   "id": "south-burlington",
   "metadata": {},
   "outputs": [
    {
     "name": "stdout",
     "output_type": "stream",
     "text": [
      "(100, 1000, 3)\n"
     ]
    }
   ],
   "source": [
    "im3 =  im2[:,600:1600,:]\n",
    "print(im3.shape)\n",
    "cv2.imshow(\"col\", im3)\n",
    "cv2.waitKey(0)\n",
    "cv2.destroyAllWindows()"
   ]
  },
  {
   "cell_type": "code",
   "execution_count": 14,
   "id": "blind-obligation",
   "metadata": {},
   "outputs": [],
   "source": [
    "alum = im3[:,0:200,:]\n",
    "wood = im3[:,750:950,:]\n",
    "cv2.imshow(\"col\", wood)\n",
    "cv2.waitKey(0)\n",
    "cv2.destroyAllWindows()"
   ]
  },
  {
   "cell_type": "code",
   "execution_count": 15,
   "id": "mexican-samba",
   "metadata": {},
   "outputs": [
    {
     "name": "stdout",
     "output_type": "stream",
     "text": [
      "128.2468 ----- 216.42705\n",
      "69.66043920160136 ----- 13.887778018729273\n",
      "137.34835 ----- 239.91565\n",
      "71.1497139999698 ----- 13.292518011178318\n",
      "142.00995 ----- 244.04305\n",
      "71.27115020116835 ----- 11.485538589787593\n"
     ]
    }
   ],
   "source": [
    "print(np.mean(alum[:,:,0]),\"-----\",np.mean(wood[:,:,0]))\n",
    "print(np.std(alum[:,:,0]),\"-----\",np.std(wood[:,:,0]))\n",
    "print(np.mean(alum[:,:,1]),\"-----\",np.mean(wood[:,:,1]))\n",
    "print(np.std(alum[:,:,1]),\"-----\",np.std(wood[:,:,1]))\n",
    "print(np.mean(alum[:,:,2]),\"-----\",np.mean(wood[:,:,2]))\n",
    "print(np.std(alum[:,:,2]),\"-----\",np.std(wood[:,:,2]))"
   ]
  },
  {
   "cell_type": "raw",
   "id": "brutal-andorra",
   "metadata": {},
   "source": [
    "gray_image = cv2.cvtColor(image, cv2.COLOR_BGR2GRAY)\n",
    "  \n",
    "cv2.imshow('Grayscale', gray_image)\n",
    "cv2.waitKey(0)  \n",
    "  \n",
    "# Window shown waits for any key pressing event\n",
    "cv2.destroyAllWindows()"
   ]
  },
  {
   "cell_type": "code",
   "execution_count": 19,
   "id": "alert-failure",
   "metadata": {},
   "outputs": [
    {
     "name": "stdout",
     "output_type": "stream",
     "text": [
      "mean val for alum H: 20.0317\n",
      "mean val for wood H: 25.6905\n",
      "mean val for alum H: 36.47675\n",
      "mean val for wood H: 29.0444\n",
      "mean val for alum H: 142.0206\n",
      "mean val for wood H: 244.1047\n"
     ]
    }
   ],
   "source": [
    "hsvalum = cv2.cvtColor(alum, cv2.COLOR_BGR2HSV)\n",
    "hsvwood = cv2.cvtColor(wood, cv2.COLOR_BGR2HSV)\n",
    "print(\"mean val for alum H:\",np.mean(hsvalum[:,:,0]))\n",
    "print(\"mean val for wood H:\",np.mean(hsvwood[:,:,0]))\n",
    "\n",
    "print(\"mean val for alum H:\",np.mean(hsvalum[:,:,1]))\n",
    "print(\"mean val for wood H:\",np.mean(hsvwood[:,:,1]))\n",
    "\n",
    "print(\"mean val for alum H:\",np.mean(hsvalum[:,:,2]))\n",
    "print(\"mean val for wood H:\",np.mean(hsvwood[:,:,2]))\n",
    "\n",
    "\n",
    "lower_red = np.array([0,15,0])\n",
    "upper_red = np.array([40,50,60])\n",
    "\n",
    "# create a red HSV colour boundary and \n",
    "# threshold HSV image\n",
    "mask = cv2.inRange(hsvalum, lower_red, upper_red)\n",
    "\n",
    "cv2.imshow('Grayscale', mask)\n",
    "cv2.waitKey(0)  \n",
    "  \n",
    "# Window shown waits for any key pressing event\n",
    "cv2.destroyAllWindows()"
   ]
  },
  {
   "cell_type": "code",
   "execution_count": null,
   "id": "communist-toilet",
   "metadata": {},
   "outputs": [],
   "source": [
    "green = np.uint8([[[157,120,88]]])\n",
    "hsv_green = cv2.cvtColor(green,cv2.COLOR_BGR2HSV)\n",
    "print(\"HSV for Alum\", hsv_green)\n",
    "\n",
    "green = np.uint8([[[125,152,166]]])\n",
    "hsv_green = cv2.cvtColor(green,cv2.COLOR_BGR2HSV)\n",
    "print(\"HSV for Wood\", hsv_green)"
   ]
  },
  {
   "cell_type": "code",
   "execution_count": null,
   "id": "destroyed-audit",
   "metadata": {},
   "outputs": [],
   "source": [
    "# define range of red color in HSV\n",
    "hsvimage = cv2.cvtColor(im2,cv2.COLOR_BGR2HSV)\n",
    "\n",
    "lower_red = np.array([75,80,120])\n",
    "upper_red = np.array([140,140,180])\n",
    "\n",
    "# create a red HSV colour boundary and \n",
    "# threshold HSV image\n",
    "mask = cv2.inRange(hsvimage, lower_red, upper_red)\n",
    "res = cv2.bitwise_and(im2,im2, mask= mask)\n",
    "\n",
    "# Bitwise-AND mask and original image\n",
    "#res = cv2.bitwise_and(image,frame, mask= mask)\n",
    "\n",
    "cv2.imshow('Grayscale', mask)\n",
    "cv2.waitKey(0)  \n",
    "  \n",
    "# Window shown waits for any key pressing event\n",
    "cv2.destroyAllWindows()"
   ]
  },
  {
   "cell_type": "code",
   "execution_count": null,
   "id": "numerous-winter",
   "metadata": {},
   "outputs": [],
   "source": [
    "np.where(mask==255)"
   ]
  },
  {
   "cell_type": "code",
   "execution_count": null,
   "id": "magnetic-canvas",
   "metadata": {},
   "outputs": [],
   "source": [
    "for i in range(mask.shape[0]):\n",
    "    if len(np.where(mask[i]==255)[0])>1:\n",
    "        jmax = np.max(np.where(mask[i]==255))\n",
    "        jmin = np.min(np.where(mask[i]==255))\n",
    "        print(i, \"---\" ,jmax-jmin)\n",
    "    #elif len(np.where(mask[i]==255))==1:\n",
    "        \n",
    "    #    jmax = np.where(mask[i]==255)\n",
    "    #    print(\"case of 1\", jmax)"
   ]
  },
  {
   "cell_type": "code",
   "execution_count": null,
   "id": "committed-participant",
   "metadata": {},
   "outputs": [],
   "source": []
  },
  {
   "cell_type": "code",
   "execution_count": null,
   "id": "heavy-meaning",
   "metadata": {},
   "outputs": [],
   "source": [
    "i = 265\n",
    "#len(np.where(mask[i]==255))>1\n",
    "len(np.where(mask[i]==255)[0])"
   ]
  }
 ],
 "metadata": {
  "kernelspec": {
   "display_name": "cv0",
   "language": "python",
   "name": "cv0"
  },
  "language_info": {
   "codemirror_mode": {
    "name": "ipython",
    "version": 3
   },
   "file_extension": ".py",
   "mimetype": "text/x-python",
   "name": "python",
   "nbconvert_exporter": "python",
   "pygments_lexer": "ipython3",
   "version": "3.8.5"
  }
 },
 "nbformat": 4,
 "nbformat_minor": 5
}
