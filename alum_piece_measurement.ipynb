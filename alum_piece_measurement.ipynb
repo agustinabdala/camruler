{
 "cells": [
  {
   "cell_type": "code",
   "execution_count": 1,
   "id": "interstate-technology",
   "metadata": {},
   "outputs": [],
   "source": [
    "import cv2\n",
    "import os\n",
    "import numpy as np\n",
    "from matplotlib import pyplot as plt"
   ]
  },
  {
   "cell_type": "code",
   "execution_count": 2,
   "id": "joint-exception",
   "metadata": {},
   "outputs": [],
   "source": [
    "file_name =  \"./../2ndset/IMG_1485.JPG\"\n",
    "image = cv2.imread(file_name)\n",
    "image = image[900:3500,500:2300,:]\n",
    "#file_name =  \"./../2ndset/IMG_1486.JPG\"\n",
    "#image = cv2.imread(file_name)\n",
    "#image = image[1390:2530,900:2000,:]\n",
    "cv2.imshow(\"col\", image)\n",
    "#cv2.imshow(\"bw\", gray_image)\n",
    "cv2.waitKey(0)\n",
    "cv2.destroyAllWindows()"
   ]
  },
  {
   "cell_type": "raw",
   "id": "frequent-scholarship",
   "metadata": {},
   "source": [
    "s1 = image[0:200,0:200,:]\n",
    "s2 = image[250:450,250:450,:]\n",
    "s3 = image[670:870,250:450,:]\n",
    "s4 = image[830:1030,250:450,:]\n",
    "s5 = image[670:870,250:850,:] # todo aluminio ancho y viruta\n",
    "s6 = image[670:870,250:780,:] # todo aluminio ancho\n",
    "s7 = image[0:200,1300:1700,:] # linea fuerte\n",
    "s8 = image[220:420,600:780,:] # esquina Al sup derecha\n",
    "s9 = image[660:820,490:550,:] # mancha debajo del codigo\n",
    "s10 = image[200:220,750:780,:] # esquina Al sup derecha mas fina\n",
    "\n",
    "plt.subplot(711),plt.imshow(cv2.cvtColor(s1, cv2.COLOR_BGR2RGB)),plt.title('s1')\n",
    "plt.xticks([]), plt.yticks([])\n",
    "plt.subplot(712),plt.imshow(cv2.cvtColor(s2, cv2.COLOR_BGR2RGB)),plt.title('s2')\n",
    "plt.xticks([]), plt.yticks([])\n",
    "plt.subplot(713),plt.imshow(cv2.cvtColor(s3, cv2.COLOR_BGR2RGB)),plt.title('s3')\n",
    "plt.xticks([]), plt.yticks([])\n",
    "plt.subplot(714),plt.imshow(cv2.cvtColor(s4, cv2.COLOR_BGR2RGB)),plt.title('s4')\n",
    "plt.xticks([]), plt.yticks([])\n",
    "plt.subplot(715),plt.imshow(cv2.cvtColor(s5, cv2.COLOR_BGR2RGB)),plt.title('s5')\n",
    "plt.xticks([]), plt.yticks([])\n",
    "plt.subplot(716),plt.imshow(cv2.cvtColor(s6, cv2.COLOR_BGR2RGB)),plt.title('s6')\n",
    "plt.xticks([]), plt.yticks([])\n",
    "plt.subplot(717),plt.imshow(cv2.cvtColor(s7, cv2.COLOR_BGR2RGB)),plt.title('s7')\n",
    "plt.xticks([]), plt.yticks([])\n",
    "plt.show()"
   ]
  },
  {
   "cell_type": "code",
   "execution_count": 3,
   "id": "distinguished-repair",
   "metadata": {},
   "outputs": [],
   "source": [
    "\"\"\"\n",
    "s = s1\n",
    "hsv = cv2.cvtColor(s, cv2.COLOR_BGR2HSV)\n",
    "plt.imshow(cv2.cvtColor(s, cv2.COLOR_BGR2RGB))\n",
    "print(f\"mean H-S-V:{round(np.mean(hsv[:,:,0]), 2)} - {round(np.mean(hsv[:,:,1]), 2)} - {round(np.mean(hsv[:,:,2]), 2)} | {round(np.mean(s[:,:,0]), 2)} - {round(np.mean(s[:,:,1]), 2)} - {round(np.mean(s[:,:,2]), 2)}\")\n",
    "\n",
    "s = s2\n",
    "hsv = cv2.cvtColor(s, cv2.COLOR_BGR2HSV)\n",
    "plt.imshow(cv2.cvtColor(s, cv2.COLOR_BGR2RGB))\n",
    "print(f\"mean H-S-V:{round(np.mean(hsv[:,:,0]), 2)} - {round(np.mean(hsv[:,:,1]), 2)} - {round(np.mean(hsv[:,:,2]), 2)} | {round(np.mean(s[:,:,0]), 2)} - {round(np.mean(s[:,:,1]), 2)} - {round(np.mean(s[:,:,2]), 2)}\")\n",
    "\n",
    "s = s3\n",
    "hsv = cv2.cvtColor(s, cv2.COLOR_BGR2HSV)\n",
    "plt.imshow(cv2.cvtColor(s, cv2.COLOR_BGR2RGB))\n",
    "print(f\"mean H-S-V:{round(np.mean(hsv[:,:,0]), 2)} - {round(np.mean(hsv[:,:,1]), 2)} - {round(np.mean(hsv[:,:,2]), 2)} | {round(np.mean(s[:,:,0]), 2)} - {round(np.mean(s[:,:,1]), 2)} - {round(np.mean(s[:,:,2]), 2)}\")\n",
    "\n",
    "s = s4\n",
    "hsv = cv2.cvtColor(s, cv2.COLOR_BGR2HSV)\n",
    "plt.imshow(cv2.cvtColor(s, cv2.COLOR_BGR2RGB))\n",
    "print(f\"mean H-S-V:{round(np.mean(hsv[:,:,0]), 2)} - {round(np.mean(hsv[:,:,1]), 2)} - {round(np.mean(hsv[:,:,2]), 2)} | {round(np.mean(s[:,:,0]), 2)} - {round(np.mean(s[:,:,1]), 2)} - {round(np.mean(s[:,:,2]), 2)}\")\n",
    "\n",
    "s = s5\n",
    "hsv = cv2.cvtColor(s, cv2.COLOR_BGR2HSV)\n",
    "plt.imshow(cv2.cvtColor(s, cv2.COLOR_BGR2RGB))\n",
    "print(f\"mean H-S-V:{round(np.mean(hsv[:,:,0]), 2)} - {round(np.mean(hsv[:,:,1]), 2)} - {round(np.mean(hsv[:,:,2]), 2)} | {round(np.mean(s[:,:,0]), 2)} - {round(np.mean(s[:,:,1]), 2)} - {round(np.mean(s[:,:,2]), 2)}\")\n",
    "\n",
    "s = s6\n",
    "hsv = cv2.cvtColor(s, cv2.COLOR_BGR2HSV)\n",
    "plt.imshow(cv2.cvtColor(s, cv2.COLOR_BGR2RGB))\n",
    "#hsvwood = cv2.cvtColor(wood, cv2.COLOR_BGR2HSV)\n",
    "print(f\"mean H-S-V:{round(np.mean(hsv[:,:,0]), 2)} - {round(np.mean(hsv[:,:,1]), 2)} - {round(np.mean(hsv[:,:,2]), 2)} | {round(np.mean(s[:,:,0]), 2)} - {round(np.mean(s[:,:,1]), 2)} - {round(np.mean(s[:,:,2]), 2)}\")\n",
    "\n",
    "\n",
    "s = s7\n",
    "hsv = cv2.cvtColor(s, cv2.COLOR_BGR2HSV)\n",
    "plt.imshow(cv2.cvtColor(s, cv2.COLOR_BGR2RGB))\n",
    "print(f\"mean H-S-V:{round(np.mean(hsv[:,:,0]), 2)} - {round(np.mean(hsv[:,:,1]), 2)} - {round(np.mean(hsv[:,:,2]), 2)} | {round(np.mean(s[:,:,0]), 2)} - {round(np.mean(s[:,:,1]), 2)} - {round(np.mean(s[:,:,2]), 2)}\")\n",
    "\n",
    "s = s8\n",
    "hsv = cv2.cvtColor(s, cv2.COLOR_BGR2HSV)\n",
    "plt.imshow(cv2.cvtColor(s, cv2.COLOR_BGR2RGB))\n",
    "print(f\"mean H-S-V:{round(np.mean(hsv[:,:,0]), 2)} - {round(np.mean(hsv[:,:,1]), 2)} - {round(np.mean(hsv[:,:,2]), 2)} | {round(np.mean(s[:,:,0]), 2)} - {round(np.mean(s[:,:,1]), 2)} - {round(np.mean(s[:,:,2]), 2)}\")\n",
    "\n",
    "s = s9\n",
    "hsv = cv2.cvtColor(s, cv2.COLOR_BGR2HSV)\n",
    "plt.imshow(cv2.cvtColor(s, cv2.COLOR_BGR2RGB))\n",
    "print(f\"mean H-S-V:{round(np.mean(hsv[:,:,0]), 2)} - {round(np.mean(hsv[:,:,1]), 2)} - {round(np.mean(hsv[:,:,2]), 2)} | {round(np.mean(s[:,:,0]), 2)} - {round(np.mean(s[:,:,1]), 2)} - {round(np.mean(s[:,:,2]), 2)}\")\n",
    "\n",
    "s = s10\n",
    "hsv = cv2.cvtColor(s, cv2.COLOR_BGR2HSV)\n",
    "plt.imshow(cv2.cvtColor(s, cv2.COLOR_BGR2RGB))\n",
    "print(f\"mean H-S-V:{round(np.mean(hsv[:,:,0]), 2)} - {round(np.mean(hsv[:,:,1]), 2)} - {round(np.mean(hsv[:,:,2]), 2)} | {round(np.mean(s[:,:,0]), 2)} - {round(np.mean(s[:,:,1]), 2)} - {round(np.mean(s[:,:,2]), 2)}\")\n",
    "\n",
    "plt.subplot(2,5,1),plt.imshow(cv2.cvtColor(s1, cv2.COLOR_BGR2RGB)),plt.title('s1')\n",
    "plt.subplot(2,5,2),plt.imshow(cv2.cvtColor(s2, cv2.COLOR_BGR2RGB)),plt.title('s2')\n",
    "plt.subplot(2,5,3),plt.imshow(cv2.cvtColor(s3, cv2.COLOR_BGR2RGB)),plt.title('s3')\n",
    "plt.subplot(2,5,4),plt.imshow(cv2.cvtColor(s4, cv2.COLOR_BGR2RGB)),plt.title('s4')\n",
    "plt.subplot(2,5,5),plt.imshow(cv2.cvtColor(s5, cv2.COLOR_BGR2RGB)),plt.title('s5')\n",
    "plt.subplot(2,5,6),plt.imshow(cv2.cvtColor(s6, cv2.COLOR_BGR2RGB)),plt.title('s6')\n",
    "plt.subplot(2,5,7),plt.imshow(cv2.cvtColor(s7, cv2.COLOR_BGR2RGB)),plt.title('s7')\n",
    "plt.subplot(2,5,8),plt.imshow(cv2.cvtColor(s8, cv2.COLOR_BGR2RGB)),plt.title('s8')\n",
    "plt.subplot(2,5,9),plt.imshow(cv2.cvtColor(s8, cv2.COLOR_BGR2RGB)),plt.title('s9')\n",
    "plt.subplot(2,5,10),plt.imshow(cv2.cvtColor(s8, cv2.COLOR_BGR2RGB)),plt.title('s10')\n",
    "plt.show()\n",
    "\"\"\"\n",
    "\n",
    "lower_red = np.array([120,185,190])\n",
    "upper_red = np.array([145,235,250])\n",
    "#upper_red = np.array([255,255,255])\n",
    "\n",
    "# create a red HSV colour boundary and \n",
    "# threshold HSV image\n",
    "mask = cv2.inRange(image, lower_red, upper_red)\n",
    "\n",
    "cv2.imshow('Grayscale', mask)\n",
    "cv2.waitKey(0)  \n",
    "cv2.destroyAllWindows()"
   ]
  },
  {
   "cell_type": "code",
   "execution_count": null,
   "id": "third-mineral",
   "metadata": {},
   "outputs": [],
   "source": [
    "len(labels[np.where(labels==0)])"
   ]
  },
  {
   "cell_type": "code",
   "execution_count": null,
   "id": "stainless-germany",
   "metadata": {},
   "outputs": [],
   "source": [
    "for k in range(num_labels):\n",
    "    print(k, \"====\", len(labels[np.where(labels==k)]))"
   ]
  },
  {
   "cell_type": "code",
   "execution_count": null,
   "id": "outer-completion",
   "metadata": {},
   "outputs": [],
   "source": [
    "kernel = cv2.getStructuringElement(cv2.MORPH_ELLIPSE, (7, 7))\n",
    "imagen_dilatada = cv2.dilate(mask, kernel, iterations=1)\n",
    "num_labels, labels = cv2.connectedComponents(imagen_dilatada)\n",
    "print(f\"num_labels = {num_labels}\")\n",
    "plt.subplots(figsize =(20, 20))\n",
    "plt.imshow(labels)"
   ]
  },
  {
   "cell_type": "raw",
   "id": "wrong-soundtrack",
   "metadata": {},
   "source": [
    "kernel = cv2.getStructuringElement(cv2.MORPH_ELLIPSE, (7, 7))\n",
    "opening = cv2.morphologyEx(mask, cv2.MORPH_OPEN, kernel)\n",
    "opening = imagen_dilatada\n",
    "#imagen_dilatada = cv2.dilate(opening, kernel, iterations=1)\n",
    "\n",
    "plt.subplots(figsize =(20, 20))\n",
    "plt.imshow(imagen_dilatada)\n",
    "\n",
    "#cv2.imshow('Grayscale', opening)\n",
    "#cv2.waitKey(0)  \n",
    "#cv2.destroyAllWindows()\n"
   ]
  },
  {
   "cell_type": "code",
   "execution_count": null,
   "id": "discrete-pride",
   "metadata": {},
   "outputs": [],
   "source": [
    "#num_labels, labels = cv2.connectedComponents(imagen_dilatada)\n",
    "#num_labels\n",
    "labels[np.where(labels!=14)]=0"
   ]
  },
  {
   "cell_type": "code",
   "execution_count": null,
   "id": "supposed-utilization",
   "metadata": {},
   "outputs": [],
   "source": [
    "labels[np.where(labels!=0)]"
   ]
  },
  {
   "cell_type": "code",
   "execution_count": null,
   "id": "educational-violin",
   "metadata": {},
   "outputs": [],
   "source": [
    "plt.subplots(figsize =(20, 20))\n",
    "plt.imshow(labels)"
   ]
  },
  {
   "cell_type": "code",
   "execution_count": null,
   "id": "aquatic-cholesterol",
   "metadata": {},
   "outputs": [],
   "source": [
    "type(gray_image)"
   ]
  },
  {
   "cell_type": "code",
   "execution_count": null,
   "id": "continuing-wheat",
   "metadata": {},
   "outputs": [],
   "source": [
    "alpha = 0.99\n",
    "gray_image = cv2.cvtColor(image, cv2.COLOR_BGR2GRAY)\n",
    "gray_imagef = np.asarray(gray_image, np.float64)\n",
    "labelsf = np.asarray(labels, np.float64)\n",
    "blended=cv2.addWeighted(gray_imagef, 1-alpha, labelsf, alpha, 0)\n",
    "\n",
    "plt.subplots(figsize =(20, 20))\n",
    "plt.imshow(blended)"
   ]
  },
  {
   "cell_type": "code",
   "execution_count": null,
   "id": "perfect-network",
   "metadata": {},
   "outputs": [],
   "source": [
    "qq = np.multiply(labels,gray_image)\n",
    "qq[np.where(qq!=0)]"
   ]
  },
  {
   "cell_type": "code",
   "execution_count": null,
   "id": "japanese-premium",
   "metadata": {},
   "outputs": [],
   "source": [
    "ancho = measure_width(opening)\n",
    "largo = measure_length(opening)\n",
    "\n",
    "fig, ax = plt.subplots(figsize =(10, 7))\n",
    "plt.plot(ancho, '.')\n",
    "plt.show()\n",
    "\n",
    "\n",
    "fig, ax = plt.subplots(figsize =(10, 7))\n",
    "ax.hist(ancho, bins = 20)\n",
    "plt.show()\n",
    "\n",
    "\n",
    "fig, ax = plt.subplots(figsize =(10, 7))\n",
    "ax.hist(largo, bins = 20)\n",
    "plt.show()"
   ]
  },
  {
   "cell_type": "code",
   "execution_count": null,
   "id": "declared-berkeley",
   "metadata": {},
   "outputs": [],
   "source": [
    "def measure_width(mask):\n",
    "    ancho = []\n",
    "    for j in range(mask.shape[0]):\n",
    "        qq = np.where(mask[j,:]==255)\n",
    "        if len(qq[0])>0:\n",
    "            dens = (np.max(qq[0])-np.min(qq[0]))\n",
    "            ancho.append(np.max(qq[0])-np.min(qq[0]))\n",
    "        else:\n",
    "            ancho.append(0)\n",
    "            \n",
    "    return ancho\n",
    "\n",
    "def measure_length(mask):\n",
    "    length = []\n",
    "    for j in range(mask.shape[1]):\n",
    "        qq = np.where(mask[:,j]==255)\n",
    "        if len(qq[0])>0:\n",
    "            dens = (np.max(qq[0])-np.min(qq[0]))\n",
    "            length.append(np.max(qq[0])-np.min(qq[0]))\n",
    "        else:\n",
    "            length.append(0)\n",
    "            \n",
    "    return length"
   ]
  },
  {
   "cell_type": "code",
   "execution_count": null,
   "id": "attractive-freeze",
   "metadata": {},
   "outputs": [],
   "source": [
    "np.histogram(np.array(ancho), bins = 20)"
   ]
  },
  {
   "cell_type": "code",
   "execution_count": null,
   "id": "overhead-buffer",
   "metadata": {},
   "outputs": [],
   "source": [
    "np.histogram(np.array(largo), bins = 20)"
   ]
  },
  {
   "cell_type": "code",
   "execution_count": null,
   "id": "happy-precipitation",
   "metadata": {},
   "outputs": [],
   "source": [
    "\n",
    "fig, ax = plt.subplots(figsize =(10, 7))\n",
    "ax.hist(largo, bins = 20)\n",
    " \n",
    "# Show plot\n",
    "plt.show()\n",
    "plt.plot(np.array(largo),'.')"
   ]
  },
  {
   "cell_type": "code",
   "execution_count": null,
   "id": "needed-triangle",
   "metadata": {},
   "outputs": [],
   "source": [
    "gray_image = cv2.cvtColor(image, cv2.COLOR_BGR2GRAY)\n",
    "\n",
    "kernel_erosion = np.ones((5,5), np.uint8)\n",
    "erosion = cv2.erode(im_after_blur, kernel_erosion, iterations = 1)\n",
    "\n",
    "filter_width = 1\n",
    "kernel_width = np.ones((filter_width,filter_width),np.float32)/(filter_width**2)\n",
    "im_after_blur = cv2.filter2D(erosion,-1,kernel_width)\n",
    "\n",
    "edge_width = 5\n",
    "kernel_edge = np.zeros((edge_width,edge_width),np.float32)\n",
    "kernel_edge[:,0] = 0\n",
    "kernel_edge[:,1] = 1\n",
    "kernel_edge[:,2] = 2\n",
    "kernel_edge[:,3] = -1\n",
    "kernel_edge[:,4] = 0\n",
    "#im_after_edge = cv2.filter2D(im_after_blur,-1,kernel_edge)\n",
    "#im_after_edge_det = cv2.filter2D(gray_image,-1,kernel_width)\n",
    "sobelx = cv2.Sobel(im_after_blur, cv2.CV_64F, 1, 0, ksize=3)\n",
    "sobely = cv2.Sobel(im_after_blur, cv2.CV_64F, 0, 1, ksize=3)\n",
    "sobel  = cv2.addWeighted(sobelx, 0.5, sobely, 0.5, 0)\n",
    "\n",
    "#filter_width2 = 5\n",
    "#kernel_width2 = np.ones((filter_width2,filter_width2),np.float32)/(filter_width2**2)\n",
    "#im_after_2blur = cv2.filter2D(sobel,-1,kernel_width2)\n",
    "\n",
    "\n",
    "cv2.imshow(\"col\", sobel)\n",
    "#cv2.imshow(\"bw\", gray_image)\n",
    "cv2.waitKey(0)\n",
    "cv2.destroyAllWindows()"
   ]
  },
  {
   "cell_type": "code",
   "execution_count": null,
   "id": "worse-visibility",
   "metadata": {},
   "outputs": [],
   "source": [
    "imgBlur = cv2.GaussianBlur(gray_image, (5,5),1)\n",
    "edges = cv2.Canny(imgBlur, 140, 197)\n",
    "\n",
    "kernel_erosion = np.ones((9,9), np.uint8)\n",
    "edges = cv2.dilate(edges, kernel_erosion, iterations = 1)\n",
    "edges = cv2.erode(edges, kernel_erosion, iterations = 1)\n",
    "\n",
    "lines = cv2.HoughLines(edges, 1, np.pi/180, 200)\n",
    "for line in lines:\n",
    "    rho,theta = line[0]\n",
    "    a = np.cos(theta)\n",
    "    b = np.sin(theta)\n",
    "    x0 = a*rho\n",
    "    y0 = b*rho\n",
    "    x1 = int(x0 + 1000*(-b))\n",
    "    y1 = int(y0 + 1000*(a))\n",
    "    x2 = int(x0 - 1000*(-b))\n",
    "    y2 = int(y0 - 1000*(a))\n",
    "    cv2.line(gray_image,(x1,y1),(x2,y2),(0,0,255),2)\n",
    "\n",
    "cv2.imshow(\"col\", gray_image)\n",
    "#cv2.imshow(\"bw\", gray_image)\n",
    "cv2.waitKey(0)\n",
    "cv2.destroyAllWindows()"
   ]
  },
  {
   "cell_type": "code",
   "execution_count": null,
   "id": "amino-training",
   "metadata": {},
   "outputs": [],
   "source": [
    "dst"
   ]
  },
  {
   "cell_type": "code",
   "execution_count": null,
   "id": "black-bridal",
   "metadata": {},
   "outputs": [],
   "source": [
    "kernel = np.ones((11,11),np.float32)/121\n",
    "dst = cv2.filter2D(mask,-1,kernel)\n",
    "#image = cv2.cvtColor(image, cv2.COLOR_BGR2RGB)\n",
    "#dst = cv2.cvtColor(dst, cv2.COLOR_BGR2RGB)\n",
    "plt.subplot(121),plt.imshow(mask),plt.title('Original')\n",
    "plt.xticks([]), plt.yticks([])\n",
    "plt.subplot(122),plt.imshow(dst),plt.title('Averaging')\n",
    "plt.xticks([]), plt.yticks([])\n",
    "plt.show()"
   ]
  },
  {
   "cell_type": "code",
   "execution_count": null,
   "id": "moderate-firewall",
   "metadata": {},
   "outputs": [],
   "source": [
    "fig, ax = plt.subplots(figsize =(10, 7))\n",
    "ax.plt.imshow"
   ]
  },
  {
   "cell_type": "code",
   "execution_count": null,
   "id": "sealed-banner",
   "metadata": {},
   "outputs": [],
   "source": [
    "dst[200:400,200:400]\n",
    "fig, ax = plt.subplots(figsize =(10, 7))\n",
    "ax.hist(np.sum(mask2, axis=1)/255, bins=100)\n",
    " \n",
    "# Show plot\n",
    "plt.show()"
   ]
  },
  {
   "cell_type": "code",
   "execution_count": null,
   "id": "qualified-couple",
   "metadata": {},
   "outputs": [],
   "source": [
    "min_int = 100\n",
    "mask2 = cv2.inRange(dst, min_int, 255)\n",
    "cv2.imshow('Grayscale', mask2)\n",
    "cv2.waitKey(0)  \n",
    "cv2.destroyAllWindows()"
   ]
  },
  {
   "cell_type": "code",
   "execution_count": null,
   "id": "victorian-delta",
   "metadata": {},
   "outputs": [],
   "source": [
    "mask2.shape"
   ]
  },
  {
   "cell_type": "code",
   "execution_count": null,
   "id": "deluxe-finger",
   "metadata": {},
   "outputs": [],
   "source": [
    "plt.plot(mask2[200,:])"
   ]
  },
  {
   "cell_type": "code",
   "execution_count": null,
   "id": "desperate-cable",
   "metadata": {},
   "outputs": [],
   "source": [
    "fig, ax = plt.subplots(figsize =(10, 7))\n",
    "ax.hist(np.array(ancho), bins=100)\n",
    " \n",
    "# Show plot\n",
    "plt.show()"
   ]
  },
  {
   "cell_type": "code",
   "execution_count": null,
   "id": "sticky-cabinet",
   "metadata": {},
   "outputs": [],
   "source": [
    "hist, bin_edges = np.histogram(ancho, bins=100,)\n",
    "print(hist)\n",
    "print(bin_edges)"
   ]
  },
  {
   "cell_type": "code",
   "execution_count": null,
   "id": "injured-crash",
   "metadata": {},
   "outputs": [],
   "source": [
    "gray_image = cv2.cvtColor(image, cv2.COLOR_BGR2GRAY)\n",
    "cv2.imshow(\"col\", gray_image)\n",
    "#cv2.imshow(\"bw\", gray_image)\n",
    "cv2.waitKey(0)\n",
    "cv2.destroyAllWindows()"
   ]
  },
  {
   "cell_type": "code",
   "execution_count": null,
   "id": "comparable-marble",
   "metadata": {},
   "outputs": [],
   "source": [
    "#small_image = gray_image[0:400,0:400]\n",
    "small_image = gray_image[200:220,750:780]\n",
    "cv2.imshow(\"col\", small_image)\n",
    "#cv2.imshow(\"bw\", gray_image)\n",
    "cv2.waitKey(0)\n",
    "cv2.destroyAllWindows()"
   ]
  },
  {
   "cell_type": "code",
   "execution_count": null,
   "id": "dangerous-lender",
   "metadata": {},
   "outputs": [],
   "source": [
    "small_image = gray_image\n",
    "kernel = np.ones((7,7),np.float32)/49\n",
    "dst = cv2.filter2D(small_image,-1,kernel)\n",
    "#image = cv2.cvtColor(image, cv2.COLOR_BGR2RGB)\n",
    "#dst = cv2.cvtColor(dst, cv2.COLOR_BGR2RGB)\n",
    "plt.subplot(121),plt.imshow(small_image),plt.title('Original')\n",
    "plt.xticks([]), plt.yticks([])\n",
    "plt.subplot(122),plt.imshow(dst),plt.title('Averaging')\n",
    "plt.xticks([]), plt.yticks([])\n",
    "plt.show()"
   ]
  },
  {
   "cell_type": "code",
   "execution_count": null,
   "id": "postal-terrorist",
   "metadata": {},
   "outputs": [],
   "source": [
    "mask = cv2.inRange(dst, 150, 255)\n",
    "cv2.imshow(\"col\", mask)\n",
    "#cv2.imshow(\"bw\", gray_image)\n",
    "cv2.waitKey(0)\n",
    "cv2.destroyAllWindows()"
   ]
  },
  {
   "cell_type": "code",
   "execution_count": null,
   "id": "refined-guide",
   "metadata": {},
   "outputs": [],
   "source": [
    "mask"
   ]
  },
  {
   "cell_type": "code",
   "execution_count": null,
   "id": "complex-supervision",
   "metadata": {},
   "outputs": [],
   "source": []
  },
  {
   "cell_type": "code",
   "execution_count": null,
   "id": "packed-penalty",
   "metadata": {},
   "outputs": [],
   "source": [
    "img_gray = cv2.cvtColor(image, cv2.COLOR_BGR2GRAY)\n",
    "# Blur the image for better edge detection\n",
    "img_blur = cv2.GaussianBlur(img_gray, (5,5), 0) \n",
    "cv2.imshow(\"col\", img_blur)\n",
    "#cv2.imshow(\"bw\", gray_image)\n",
    "cv2.waitKey(0)\n",
    "cv2.destroyAllWindows()"
   ]
  },
  {
   "cell_type": "code",
   "execution_count": null,
   "id": "deadly-spanish",
   "metadata": {},
   "outputs": [],
   "source": [
    "sobelx = cv2.Sobel(src=img_blur, ddepth=cv2.CV_64F, dx=1, dy=0, ksize=5) # Sobel Edge Detection on the X axis\n",
    "sobely = cv2.Sobel(src=img_blur, ddepth=cv2.CV_64F, dx=0, dy=1, ksize=5) # Sobel Edge Detection on the Y axis\n",
    "sobelxy = cv2.Sobel(src=img_blur, ddepth=cv2.CV_64F, dx=1, dy=1, ksize=5)"
   ]
  },
  {
   "cell_type": "code",
   "execution_count": null,
   "id": "clear-sampling",
   "metadata": {},
   "outputs": [],
   "source": [
    "cv2.imshow('Sobel X', sobelx)\n",
    "cv2.waitKey(0)\n",
    "cv2.imshow('Sobel Y', sobely)\n",
    "cv2.waitKey(0)\n",
    "cv2.imshow('Sobel X Y using Sobel() function', sobelxy)\n",
    "cv2.waitKey(0)\n",
    "cv2.destroyAllWindows()"
   ]
  },
  {
   "cell_type": "code",
   "execution_count": null,
   "id": "previous-positive",
   "metadata": {},
   "outputs": [],
   "source": []
  },
  {
   "cell_type": "code",
   "execution_count": null,
   "id": "hearing-creek",
   "metadata": {},
   "outputs": [],
   "source": [
    "im2 =  image[1300:2700,500:2000,:]\n",
    "print(im2.shape)\n",
    "cv2.imshow(\"col\", im2)\n",
    "cv2.waitKey(0)\n",
    "cv2.destroyAllWindows()\n"
   ]
  },
  {
   "cell_type": "code",
   "execution_count": null,
   "id": "going-inspector",
   "metadata": {},
   "outputs": [],
   "source": [
    "im3 =  im2[278:500,1100:1400,:]\n",
    "print(im3.shape)\n",
    "cv2.imshow(\"col\", im3)\n",
    "cv2.waitKey(0)\n",
    "cv2.destroyAllWindows()"
   ]
  },
  {
   "cell_type": "code",
   "execution_count": null,
   "id": "worthy-spell",
   "metadata": {},
   "outputs": [],
   "source": [
    "alum = im3[:,0:110,:]\n",
    "wood = im3[:,170:,:]\n",
    "cv2.imshow(\"col\", alum)\n",
    "cv2.waitKey(0)\n",
    "cv2.destroyAllWindows()"
   ]
  },
  {
   "cell_type": "code",
   "execution_count": null,
   "id": "regulated-perspective",
   "metadata": {},
   "outputs": [],
   "source": []
  },
  {
   "cell_type": "code",
   "execution_count": null,
   "id": "blocked-intro",
   "metadata": {},
   "outputs": [],
   "source": [
    "print(np.mean(alum[:,:,0]),\"-----\",np.mean(wood[:,:,0]))\n",
    "print(np.std(alum[:,:,0]),\"-----\",np.std(wood[:,:,0]))\n",
    "print(np.mean(alum[:,:,1]),\"-----\",np.mean(wood[:,:,1]))\n",
    "print(np.std(alum[:,:,1]),\"-----\",np.std(wood[:,:,1]))\n",
    "print(np.mean(alum[:,:,2]),\"-----\",np.mean(wood[:,:,2]))\n",
    "print(np.std(alum[:,:,2]),\"-----\",np.std(wood[:,:,2]))"
   ]
  },
  {
   "cell_type": "raw",
   "id": "enhanced-burden",
   "metadata": {},
   "source": [
    "gray_image = cv2.cvtColor(image, cv2.COLOR_BGR2GRAY)\n",
    "  \n",
    "cv2.imshow('Grayscale', gray_image)\n",
    "cv2.waitKey(0)  \n",
    "  \n",
    "# Window shown waits for any key pressing event\n",
    "cv2.destroyAllWindows()"
   ]
  },
  {
   "cell_type": "code",
   "execution_count": null,
   "id": "australian-discretion",
   "metadata": {},
   "outputs": [],
   "source": [
    "hsvalum = cv2.cvtColor(alum, cv2.COLOR_BGR2HSV)\n",
    "hsvwood = cv2.cvtColor(wood, cv2.COLOR_BGR2HSV)\n",
    "print(\"mean val for alum H:\",np.mean(hsvalum[:,:,0]))\n",
    "print(\"mean val for wood H:\",np.mean(hsvwood[:,:,0]))\n",
    "\n",
    "\n",
    "lower_red = np.array([75,100,120])\n",
    "upper_red = np.array([140,140,180])\n",
    "\n",
    "# create a red HSV colour boundary and \n",
    "# threshold HSV image\n",
    "mask = cv2.inRange(hsvimage, lower_red, upper_red)\n",
    "\n",
    "cv2.imshow('Grayscale', alum)\n",
    "cv2.waitKey(0)  \n",
    "  \n",
    "# Window shown waits for any key pressing event\n",
    "cv2.destroyAllWindows()"
   ]
  },
  {
   "cell_type": "code",
   "execution_count": null,
   "id": "occupied-joshua",
   "metadata": {},
   "outputs": [],
   "source": [
    "print(\"mean val for alum V:\",np.mean(hsvalum[:,:,2]))\n",
    "print(\"mean val for wood V:\",np.mean(hsvwood[:,:,2]))"
   ]
  },
  {
   "cell_type": "code",
   "execution_count": null,
   "id": "collect-fighter",
   "metadata": {},
   "outputs": [],
   "source": [
    "green = np.uint8([[[157,120,88]]])\n",
    "hsv_green = cv2.cvtColor(green,cv2.COLOR_BGR2HSV)\n",
    "print(\"HSV for Alum\", hsv_green)\n",
    "\n",
    "green = np.uint8([[[125,152,166]]])\n",
    "hsv_green = cv2.cvtColor(green,cv2.COLOR_BGR2HSV)\n",
    "print(\"HSV for Wood\", hsv_green)"
   ]
  },
  {
   "cell_type": "code",
   "execution_count": null,
   "id": "permanent-casino",
   "metadata": {},
   "outputs": [],
   "source": [
    "# define range of red color in HSV\n",
    "hsvimage = cv2.cvtColor(im2,cv2.COLOR_BGR2HSV)\n",
    "\n",
    "lower_red = np.array([75,80,120])\n",
    "upper_red = np.array([140,140,180])\n",
    "\n",
    "# create a red HSV colour boundary and \n",
    "# threshold HSV image\n",
    "mask = cv2.inRange(hsvimage, lower_red, upper_red)\n",
    "res = cv2.bitwise_and(im2,im2, mask= mask)\n",
    "\n",
    "# Bitwise-AND mask and original image\n",
    "#res = cv2.bitwise_and(image,frame, mask= mask)\n",
    "\n",
    "cv2.imshow('Grayscale', mask)\n",
    "cv2.waitKey(0)  \n",
    "  \n",
    "# Window shown waits for any key pressing event\n",
    "cv2.destroyAllWindows()"
   ]
  },
  {
   "cell_type": "code",
   "execution_count": null,
   "id": "quarterly-morgan",
   "metadata": {},
   "outputs": [],
   "source": [
    "np.where(mask==255)"
   ]
  },
  {
   "cell_type": "code",
   "execution_count": null,
   "id": "sacred-soviet",
   "metadata": {},
   "outputs": [],
   "source": [
    "for i in range(mask.shape[0]):\n",
    "    if len(np.where(mask[i]==255)[0])>1:\n",
    "        jmax = np.max(np.where(mask[i]==255))\n",
    "        jmin = np.min(np.where(mask[i]==255))\n",
    "        print(i, \"---\" ,jmax-jmin)\n",
    "    #elif len(np.where(mask[i]==255))==1:\n",
    "        \n",
    "    #    jmax = np.where(mask[i]==255)\n",
    "    #    print(\"case of 1\", jmax)"
   ]
  },
  {
   "cell_type": "code",
   "execution_count": null,
   "id": "initial-connectivity",
   "metadata": {},
   "outputs": [],
   "source": [
    "saca foto\n",
    "mide codigo_id (por barras)\n",
    "mide dimensiones\n",
    "carga en planilla excel (id, dimension 1, dimension 2)"
   ]
  },
  {
   "cell_type": "code",
   "execution_count": null,
   "id": "fifth-rebel",
   "metadata": {},
   "outputs": [],
   "source": [
    "i = 265\n",
    "#len(np.where(mask[i]==255))>1\n",
    "len(np.where(mask[i]==255)[0])"
   ]
  }
 ],
 "metadata": {
  "kernelspec": {
   "display_name": "cv0",
   "language": "python",
   "name": "cv0"
  },
  "language_info": {
   "codemirror_mode": {
    "name": "ipython",
    "version": 3
   },
   "file_extension": ".py",
   "mimetype": "text/x-python",
   "name": "python",
   "nbconvert_exporter": "python",
   "pygments_lexer": "ipython3",
   "version": "3.8.5"
  }
 },
 "nbformat": 4,
 "nbformat_minor": 5
}
